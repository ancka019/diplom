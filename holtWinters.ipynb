{
 "cells": [
  {
   "cell_type": "code",
   "execution_count": 1,
   "id": "2f0a6d01",
   "metadata": {},
   "outputs": [],
   "source": [
    "import pandas as pd\n",
    "import matplotlib.pyplot as plt\n",
    "import numpy as np\n",
    "from statsmodels.tsa.seasonal import seasonal_decompose\n",
    "from statsmodels.graphics.tsaplots import plot_acf, plot_pacf\n",
    "from statsmodels.tsa.stattools import adfuller\n",
    "from statsmodels.tsa.statespace.sarimax import SARIMAX\n",
    "import statsmodels.api as sm\n",
    "import seaborn as sns\n",
    "#import pmdarima as pm\n",
    "from dateutil.relativedelta import relativedelta\n",
    "import warnings\n",
    "warnings.simplefilter(action='ignore')\n",
    "from sklearn.metrics import accuracy_score\n",
    "import time\n",
    "import tensorflow as tf\n",
    "import keras\n",
    "from keras.models import Sequential\n",
    "from keras.layers import Dense, SimpleRNN, LSTM, Activation, Dropout\n",
    "import math\n",
    "from sklearn.preprocessing import MinMaxScaler\n",
    "from sklearn.metrics import mean_squared_error\n",
    "import prophet\n",
    "from numpy import median\n",
    "import math"
   ]
  },
  {
   "cell_type": "code",
   "execution_count": 2,
   "id": "6d951c10",
   "metadata": {},
   "outputs": [],
   "source": [
    "import statistics"
   ]
  },
  {
   "cell_type": "code",
   "execution_count": 137,
   "id": "d59eda4e",
   "metadata": {},
   "outputs": [],
   "source": [
    "df = pd.read_csv('sales_train_validation.csv')\n",
    "df.head(3)\n",
    "calendar= pd.read_csv('calendar.csv')"
   ]
  },
  {
   "cell_type": "code",
   "execution_count": 138,
   "id": "d80f456f",
   "metadata": {},
   "outputs": [
    {
     "data": {
      "text/plain": [
       "DatetimeIndex(['2011-01-29', '2011-01-30', '2011-01-31', '2011-02-01',\n",
       "               '2011-02-02', '2011-02-03', '2011-02-04', '2011-02-05',\n",
       "               '2011-02-06', '2011-02-07',\n",
       "               ...\n",
       "               '2016-04-15', '2016-04-16', '2016-04-17', '2016-04-18',\n",
       "               '2016-04-19', '2016-04-20', '2016-04-21', '2016-04-22',\n",
       "               '2016-04-23', '2016-04-24'],\n",
       "              dtype='datetime64[ns]', name='date', length=1913, freq='D')"
      ]
     },
     "execution_count": 138,
     "metadata": {},
     "output_type": "execute_result"
    }
   ],
   "source": [
    "df.drop(columns=['item_id', 'dept_id','cat_id','store_id','state_id'],axis=1, inplace=True) # Drop the unnecessary columns\n",
    "data = df.T  # seting the days as index for new dataframe(Data)\n",
    "data.columns = df['id'] # ading product id column to Data \n",
    "data.index.name = None   # remove the name of index\n",
    "data.drop(index='id',inplace=True) # remove the first row\n",
    "# change the format and the freq. of index to datetime format\n",
    "data.index = calendar['date'][0:1913]\n",
    "data.index = pd.to_datetime(data.index)\n",
    "data.index.freq= 'd'\n",
    "data.index"
   ]
  },
  {
   "cell_type": "code",
   "execution_count": 180,
   "id": "9162a64c",
   "metadata": {},
   "outputs": [
    {
     "name": "stdout",
     "output_type": "stream",
     "text": [
      "full data length (1663, 1)\n",
      "train_SARIMA (1563,)\n",
      "test_SARIMA (100,)\n",
      "train_LSTM (1413,)\n",
      "test_LSTM (1813,)\n",
      "train prophet (1563, 1)\n",
      "true  (100,)\n"
     ]
    }
   ],
   "source": [
    "start_interval = 250 # удаление начального интервала, в котором не отображаются данные о проданном товаре\n",
    "test_sample= 100\n",
    "train_SARIMA = data['FOODS_3_090_CA_3_validation'][start_interval:-test_sample].astype('float')\n",
    "test_SARIMA = train_SARIMA[-test_sample:].astype('float')\n",
    "train_LSTM = data['FOODS_3_090_CA_3_validation'][start_interval:-250].astype('float')\n",
    "test_LSTM = data['FOODS_3_090_CA_3_validation'][:-test_sample].astype('float')\n",
    "train_prophet = data[['FOODS_3_090_CA_3_validation']][start_interval:-test_sample].astype('float')\n",
    "true = data['FOODS_3_090_CA_3_validation'][-test_sample:].astype('float')\n",
    "print('full data length', data[['FOODS_3_090_CA_3_validation']][start_interval:].shape)\n",
    "print('train_SARIMA', train_SARIMA.shape)\n",
    "print('test_SARIMA', test_SARIMA.shape)\n",
    "print('train_LSTM', train_LSTM.shape)\n",
    "print('test_LSTM', test_LSTM.shape)\n",
    "print(\"train prophet\", train_prophet.shape)\n",
    "print(\"true \", true.shape)"
   ]
  },
  {
   "cell_type": "code",
   "execution_count": 15,
   "id": "f8fa4a94",
   "metadata": {},
   "outputs": [],
   "source": [
    "from statsmodels.tsa.holtwinters import ExponentialSmoothing"
   ]
  },
  {
   "cell_type": "code",
   "execution_count": 16,
   "id": "741954d8",
   "metadata": {},
   "outputs": [],
   "source": [
    "def holtWinters(data, seasonal_periods=12, trend='add', seasonal='add'):\n",
    "    \"\"\"\n",
    "    This function fits a Holt-Winters exponential smoothing model to a time series data.\n",
    "    \n",
    "    Parameters:\n",
    "    data (pandas.Series): The time series data to be modeled\n",
    "    seasonal_periods (int): The number of seasonal periods in the data\n",
    "    trend (str): The type of trend to be modeled. Can be 'add' or 'mul'\n",
    "    seasonal (str): The type of seasonal component to be modeled. Can be 'add' or 'mul'\n",
    "    \n",
    "    Returns:\n",
    "    statsmodels.tsa.holtwinters.ExponentialSmoothingResults: The fitted model object\n",
    "    \"\"\"\n",
    "    try:\n",
    "        # Check if data is a pandas Series\n",
    "        if not isinstance(data, pd.Series):\n",
    "            raise TypeError(\"Data must be a pandas Series\")\n",
    "        \n",
    "        # Fit the model\n",
    "        model = ExponentialSmoothing(data, seasonal_periods=seasonal_periods, trend=trend, seasonal=seasonal).fit()\n",
    "        \n",
    "        # Return the model object\n",
    "        return model\n",
    "    except TypeError as e:\n",
    "        # Log the error\n",
    "        print(f\"Error: {e}\")"
   ]
  },
  {
   "cell_type": "code",
   "execution_count": 129,
   "id": "68301de2",
   "metadata": {},
   "outputs": [
    {
     "name": "stdout",
     "output_type": "stream",
     "text": [
      "Error: Input must be a pandas DataFrame\n"
     ]
    }
   ],
   "source": [
    "data = df_to_series(true)"
   ]
  },
  {
   "cell_type": "code",
   "execution_count": 181,
   "id": "13486b7d",
   "metadata": {},
   "outputs": [],
   "source": [
    "forecast = holtWinters(train_LSTM, seasonal_periods=12, trend='add', seasonal='add')"
   ]
  },
  {
   "cell_type": "code",
   "execution_count": 182,
   "id": "bc930573",
   "metadata": {},
   "outputs": [
    {
     "data": {
      "text/plain": [
       "{'smoothing_level': 0.393452372460113,\n",
       " 'smoothing_trend': 0.0007030743334318623,\n",
       " 'smoothing_seasonal': 0.055974653835277985,\n",
       " 'damping_trend': nan,\n",
       " 'initial_level': 251.14977950573552,\n",
       " 'initial_trend': 0.1864922909359393,\n",
       " 'initial_seasons': array([109.47819722,  -1.22531688, -16.09113102, -16.45368967,\n",
       "         25.48460334, -63.64545757, -28.74413982,  10.05949424,\n",
       "         17.31697791, -43.10819799,  -1.88993765,   8.88669277]),\n",
       " 'use_boxcox': False,\n",
       " 'lamda': None,\n",
       " 'remove_bias': False}"
      ]
     },
     "execution_count": 182,
     "metadata": {},
     "output_type": "execute_result"
    }
   ],
   "source": [
    "forecast.params"
   ]
  },
  {
   "cell_type": "code",
   "execution_count": 188,
   "id": "8869cb38",
   "metadata": {},
   "outputs": [
    {
     "data": {
      "text/plain": [
       "date\n",
       "2011-10-06    360.814469\n",
       "2011-10-07    206.272848\n",
       "2011-10-08    210.354159\n",
       "2011-10-09    308.453172\n",
       "2011-10-10    296.116259\n",
       "                 ...    \n",
       "2015-08-14     71.868273\n",
       "2015-08-15    103.536507\n",
       "2015-08-16    127.423408\n",
       "2015-08-17    148.597073\n",
       "2015-08-18    129.763048\n",
       "Freq: D, Length: 1413, dtype: float64"
      ]
     },
     "execution_count": 188,
     "metadata": {},
     "output_type": "execute_result"
    }
   ],
   "source": [
    "forecast.fittedvalues"
   ]
  },
  {
   "cell_type": "code",
   "execution_count": 189,
   "id": "8ea2abb7",
   "metadata": {},
   "outputs": [
    {
     "data": {
      "text/plain": [
       "2015-08-19    121.657219\n",
       "2015-08-20    130.178535\n",
       "2015-08-21    120.350870\n",
       "2015-08-22    121.917929\n",
       "2015-08-23    124.241648\n",
       "                 ...    \n",
       "2015-12-12    130.350654\n",
       "2015-12-13    132.219304\n",
       "2015-12-14    141.376121\n",
       "2015-12-15    141.633899\n",
       "2015-12-16    126.209014\n",
       "Freq: D, Length: 120, dtype: float64"
      ]
     },
     "execution_count": 189,
     "metadata": {},
     "output_type": "execute_result"
    }
   ],
   "source": [
    "forecast.forecast(120)"
   ]
  },
  {
   "cell_type": "code",
   "execution_count": 190,
   "id": "d4f6981b",
   "metadata": {},
   "outputs": [],
   "source": [
    "true = data[['FOODS_3_090_CA_3_validation']]['2015-10-12':].astype('float')"
   ]
  },
  {
   "cell_type": "code",
   "execution_count": 191,
   "id": "b1c8773c",
   "metadata": {},
   "outputs": [
    {
     "data": {
      "image/png": "[encoded data removed]",
      "text/plain": [
       "<Figure size 1200x800 with 1 Axes>"
      ]
     },
     "metadata": {},
     "output_type": "display_data"
    }
   ],
   "source": [
    "\n",
    "plt.figure(figsize=(12,8))\n",
    "plt.plot(true, label='Y-TEST')\n",
    "plt.plot(forecast.forecast(100))\n",
    "plt.legend()\n",
    "plt.show()"
   ]
  },
  {
   "cell_type": "code",
   "execution_count": 13,
   "id": "1023e33d",
   "metadata": {},
   "outputs": [],
   "source": [
    "train_prophet = df_to_series(train_prophet)"
   ]
  },
  {
   "cell_type": "code",
   "execution_count": 192,
   "id": "f47bf305",
   "metadata": {},
   "outputs": [
    {
     "ename": "NameError",
     "evalue": "name 'metrics' is not defined",
     "output_type": "error",
     "traceback": [
      "\u001b[1;31m---------------------------------------------------------------------------\u001b[0m",
      "\u001b[1;31mNameError\u001b[0m                                 Traceback (most recent call last)",
      "Cell \u001b[1;32mIn [192], line 1\u001b[0m\n\u001b[1;32m----> 1\u001b[0m \u001b[43mmetrics\u001b[49m(test, forecast\u001b[38;5;241m.\u001b[39mforecast(\u001b[38;5;28mlen\u001b[39m(test)))\n",
      "\u001b[1;31mNameError\u001b[0m: name 'metrics' is not defined"
     ]
    }
   ],
   "source": [
    "metrics(test, forecast.forecast(len(test)))"
   ]
  },
  {
   "cell_type": "code",
   "execution_count": 12,
   "id": "d118b4c6",
   "metadata": {},
   "outputs": [],
   "source": [
    "def df_to_series(df):\n",
    "    \"\"\"\n",
    "    This function takes a pandas DataFrame as input and returns a pandas Series.\n",
    "    \n",
    "    Parameters:\n",
    "    df (pandas.DataFrame): The DataFrame to be converted to a Series\n",
    "    \n",
    "    Returns:\n",
    "    pandas.Series: The Series obtained from the DataFrame\n",
    "    \"\"\"\n",
    "    try:\n",
    "        # Check if the input is a pandas DataFrame\n",
    "        if not isinstance(df, pd.DataFrame):\n",
    "            raise TypeError(\"Input must be a pandas DataFrame\")\n",
    "        \n",
    "        # Convert the DataFrame to a Series and return it\n",
    "        return df.squeeze()\n",
    "    except TypeError as e:\n",
    "        # Log the error\n",
    "        print(f\"Error: {e}\")\n",
    "        return pd.Series()"
   ]
  },
  {
   "cell_type": "code",
   "execution_count": 118,
   "id": "8b685f5d",
   "metadata": {},
   "outputs": [],
   "source": [
    "import pandas as pd\n",
    "from statsmodels.tsa.holtwinters import ExponentialSmoothing\n",
    "\n",
    "def holt_winters_ext_regressors(data, event_calendar):\n",
    "    \"\"\"\n",
    "    This function fits a Holt-Winters model with external regressors and event calendar to the given data.\n",
    "    \n",
    "    Parameters:\n",
    "    data (pandas.DataFrame): The time series data to be modeled\n",
    "    external_regressors (pandas.DataFrame): The external regressors to be used in the model\n",
    "    event_calendar (pandas.DataFrame): The event calendar to be used in the model\n",
    "    \n",
    "    Returns:\n",
    "    statsmodels.tsa.holtwinters.ExponentialSmoothingResultsWrapper: The fitted Holt-Winters model\n",
    "    \"\"\"\n",
    "    try:\n",
    "        # Check if all arguments are pandas DataFrames\n",
    "        if not isinstance(data, pd.DataFrame) or not isinstance(event_calendar, pd.DataFrame):\n",
    "            raise TypeError(\"All arguments must be pandas DataFrames\")\n",
    "        \n",
    "        # Fit the Holt-Winters model with external regressors and event calendar\n",
    "        model = ExponentialSmoothing(data, dates=event_calendar, seasonal_periods=12, trend='add', seasonal='add')\n",
    "        fitted_model = model.fit()\n",
    "         # Return the fitted model\n",
    "        return fitted_model\n",
    "    except TypeError as e:\n",
    "        # Log the error\n",
    "        print(f\"Error: {e}\")\n",
    "        return None"
   ]
  },
  {
   "cell_type": "code",
   "execution_count": 119,
   "id": "8f5aa355",
   "metadata": {},
   "outputs": [
    {
     "data": {
      "text/plain": [
       "DatetimeIndex(['2011-10-06', '2011-10-07', '2011-10-08', '2011-10-09',\n",
       "               '2011-10-10', '2011-10-11', '2011-10-12', '2011-10-13',\n",
       "               '2011-10-14', '2011-10-15',\n",
       "               ...\n",
       "               '2016-01-06', '2016-01-07', '2016-01-08', '2016-01-09',\n",
       "               '2016-01-10', '2016-01-11', '2016-01-12', '2016-01-13',\n",
       "               '2016-01-14', '2016-01-15'],\n",
       "              dtype='datetime64[ns]', name='date', length=1563, freq='D')"
      ]
     },
     "execution_count": 119,
     "metadata": {},
     "output_type": "execute_result"
    }
   ],
   "source": [
    "train_prophet.index"
   ]
  },
  {
   "cell_type": "code",
   "execution_count": 125,
   "id": "349355b9",
   "metadata": {},
   "outputs": [
    {
     "name": "stdout",
     "output_type": "stream",
     "text": [
      "Error: All arguments must be pandas DataFrames\n"
     ]
    }
   ],
   "source": [
    "hwH = holt_winters_ext_regressors(train_prophet,events_df['ds'])"
   ]
  },
  {
   "cell_type": "code",
   "execution_count": 121,
   "id": "05eecdae",
   "metadata": {},
   "outputs": [],
   "source": [
    "def downcast(df):\n",
    "\n",
    "    cols = df.dtypes.index.tolist()\n",
    "    types = df.dtypes.values.tolist()\n",
    "\n",
    "    for i,t in enumerate(types):\n",
    "\n",
    "        if 'int' in str(t):\n",
    "            if df[cols[i]].min() > np.iinfo(np.int8).min and df[cols[i]].max() < np.iinfo(np.int8).max:\n",
    "                df[cols[i]] = df[cols[i]].astype(np.int8)\n",
    "            elif df[cols[i]].min() > np.iinfo(np.int16).min and df[cols[i]].max() < np.iinfo(np.int16).max:\n",
    "                df[cols[i]] = df[cols[i]].astype(np.int16)\n",
    "            elif df[cols[i]].min() > np.iinfo(np.int32).min and df[cols[i]].max() < np.iinfo(np.int32).max:\n",
    "                df[cols[i]] = df[cols[i]].astype(np.int32)\n",
    "            else:\n",
    "                df[cols[i]] = df[cols[i]].astype(np.int64)\n",
    "\n",
    "        elif 'float' in str(t):\n",
    "            if df[cols[i]].min() > np.finfo(np.float16).min and df[cols[i]].max() < np.finfo(np.float16).max:\n",
    "                df[cols[i]] = df[cols[i]].astype(np.float16)\n",
    "            elif df[cols[i]].min() > np.finfo(np.float32).min and df[cols[i]].max() < np.finfo(np.float32).max:\n",
    "                df[cols[i]] = df[cols[i]].astype(np.float32)\n",
    "            else:\n",
    "                df[cols[i]] = df[cols[i]].astype(np.float64)\n",
    "\n",
    "        elif t == np.object:\n",
    "            if cols[i] == 'date':\n",
    "                df[cols[i]] = pd.to_datetime(df[cols[i]], format='%Y-%m-%d')\n",
    "            else:\n",
    "                df[cols[i]] = df[cols[i]].astype('category')\n",
    "\n",
    "    return df "
   ]
  },
  {
   "cell_type": "code",
   "execution_count": 122,
   "id": "bf240f48",
   "metadata": {},
   "outputs": [],
   "source": [
    "calendar = pd.read_csv(\"calendar.csv\")"
   ]
  },
  {
   "cell_type": "code",
   "execution_count": 123,
   "id": "903c8515",
   "metadata": {},
   "outputs": [],
   "source": [
    "calendar = downcast(calendar)"
   ]
  },
  {
   "cell_type": "code",
   "execution_count": 124,
   "id": "58867f5f",
   "metadata": {},
   "outputs": [
    {
     "data": {
      "text/html": [
       "<div>\n",
       "<style scoped>\n",
       "    .dataframe tbody tr th:only-of-type {\n",
       "        vertical-align: middle;\n",
       "    }\n",
       "\n",
       "    .dataframe tbody tr th {\n",
       "        vertical-align: top;\n",
       "    }\n",
       "\n",
       "    .dataframe thead th {\n",
       "        text-align: right;\n",
       "    }\n",
       "</style>\n",
       "<table border=\"1\" class=\"dataframe\">\n",
       "  <thead>\n",
       "    <tr style=\"text-align: right;\">\n",
       "      <th></th>\n",
       "      <th>event</th>\n",
       "      <th>ds</th>\n",
       "    </tr>\n",
       "  </thead>\n",
       "  <tbody>\n",
       "    <tr>\n",
       "      <th>0</th>\n",
       "      <td>SuperBowl</td>\n",
       "      <td>2011-02-06</td>\n",
       "    </tr>\n",
       "    <tr>\n",
       "      <th>1</th>\n",
       "      <td>SuperBowl</td>\n",
       "      <td>2012-02-05</td>\n",
       "    </tr>\n",
       "    <tr>\n",
       "      <th>2</th>\n",
       "      <td>SuperBowl</td>\n",
       "      <td>2013-02-03</td>\n",
       "    </tr>\n",
       "    <tr>\n",
       "      <th>3</th>\n",
       "      <td>SuperBowl</td>\n",
       "      <td>2014-02-02</td>\n",
       "    </tr>\n",
       "    <tr>\n",
       "      <th>4</th>\n",
       "      <td>SuperBowl</td>\n",
       "      <td>2015-02-01</td>\n",
       "    </tr>\n",
       "    <tr>\n",
       "      <th>...</th>\n",
       "      <td>...</td>\n",
       "      <td>...</td>\n",
       "    </tr>\n",
       "    <tr>\n",
       "      <th>645</th>\n",
       "      <td>snap_WI</td>\n",
       "      <td>2016-06-09</td>\n",
       "    </tr>\n",
       "    <tr>\n",
       "      <th>646</th>\n",
       "      <td>snap_WI</td>\n",
       "      <td>2016-06-11</td>\n",
       "    </tr>\n",
       "    <tr>\n",
       "      <th>647</th>\n",
       "      <td>snap_WI</td>\n",
       "      <td>2016-06-12</td>\n",
       "    </tr>\n",
       "    <tr>\n",
       "      <th>648</th>\n",
       "      <td>snap_WI</td>\n",
       "      <td>2016-06-14</td>\n",
       "    </tr>\n",
       "    <tr>\n",
       "      <th>649</th>\n",
       "      <td>snap_WI</td>\n",
       "      <td>2016-06-15</td>\n",
       "    </tr>\n",
       "  </tbody>\n",
       "</table>\n",
       "<p>2117 rows × 2 columns</p>\n",
       "</div>"
      ],
      "text/plain": [
       "         event         ds\n",
       "0    SuperBowl 2011-02-06\n",
       "1    SuperBowl 2012-02-05\n",
       "2    SuperBowl 2013-02-03\n",
       "3    SuperBowl 2014-02-02\n",
       "4    SuperBowl 2015-02-01\n",
       "..         ...        ...\n",
       "645    snap_WI 2016-06-09\n",
       "646    snap_WI 2016-06-11\n",
       "647    snap_WI 2016-06-12\n",
       "648    snap_WI 2016-06-14\n",
       "649    snap_WI 2016-06-15\n",
       "\n",
       "[2117 rows x 2 columns]"
      ]
     },
     "execution_count": 124,
     "metadata": {},
     "output_type": "execute_result"
    }
   ],
   "source": [
    "# праздники\n",
    "lst_events = calendar.event_name_1.dropna().unique().to_list()\n",
    "events_df = pd.DataFrame(columns = ['event', 'ds'])\n",
    "for strEvent in lst_events:\n",
    "    events_df = events_df.append(pd.DataFrame({\n",
    "        'event': strEvent,\n",
    "        'ds': calendar.loc[(calendar[['event_name_1', 'event_name_2']] == strEvent).any(axis=1)].date.unique()\n",
    "    }))\n",
    "    \n",
    "for strEvent in ['snap_CA','snap_TX','snap_WI']:\n",
    "     events_df = events_df.append(pd.DataFrame({\n",
    "        'event': strEvent,\n",
    "        'ds': calendar.loc[(calendar[strEvent] > 0)].date.unique()\n",
    "    }))\n",
    "\n",
    "lst_events.extend(['snap_CA','snap_TX','snap_WI'])\n",
    "\n",
    "events_df"
   ]
  },
  {
   "cell_type": "code",
   "execution_count": 104,
   "id": "2314a3be",
   "metadata": {},
   "outputs": [
    {
     "ename": "AttributeError",
     "evalue": "'Series' object has no attribute 'set_index'",
     "output_type": "error",
     "traceback": [
      "\u001b[1;31m---------------------------------------------------------------------------\u001b[0m",
      "\u001b[1;31mAttributeError\u001b[0m                            Traceback (most recent call last)",
      "Cell \u001b[1;32mIn [104], line 1\u001b[0m\n\u001b[1;32m----> 1\u001b[0m \u001b[43mevents_df\u001b[49m\u001b[43m[\u001b[49m\u001b[38;5;124;43m'\u001b[39;49m\u001b[38;5;124;43mds\u001b[39;49m\u001b[38;5;124;43m'\u001b[39;49m\u001b[43m]\u001b[49m\u001b[38;5;241;43m.\u001b[39;49m\u001b[43mset_index\u001b[49m(\u001b[38;5;124m'\u001b[39m\u001b[38;5;124mds\u001b[39m\u001b[38;5;124m'\u001b[39m)\n",
      "File \u001b[1;32m~\\Anaconda3\\envs\\m5\\lib\\site-packages\\pandas\\core\\generic.py:5902\u001b[0m, in \u001b[0;36mNDFrame.__getattr__\u001b[1;34m(self, name)\u001b[0m\n\u001b[0;32m   5895\u001b[0m \u001b[38;5;28;01mif\u001b[39;00m (\n\u001b[0;32m   5896\u001b[0m     name \u001b[38;5;129;01mnot\u001b[39;00m \u001b[38;5;129;01min\u001b[39;00m \u001b[38;5;28mself\u001b[39m\u001b[38;5;241m.\u001b[39m_internal_names_set\n\u001b[0;32m   5897\u001b[0m     \u001b[38;5;129;01mand\u001b[39;00m name \u001b[38;5;129;01mnot\u001b[39;00m \u001b[38;5;129;01min\u001b[39;00m \u001b[38;5;28mself\u001b[39m\u001b[38;5;241m.\u001b[39m_metadata\n\u001b[0;32m   5898\u001b[0m     \u001b[38;5;129;01mand\u001b[39;00m name \u001b[38;5;129;01mnot\u001b[39;00m \u001b[38;5;129;01min\u001b[39;00m \u001b[38;5;28mself\u001b[39m\u001b[38;5;241m.\u001b[39m_accessors\n\u001b[0;32m   5899\u001b[0m     \u001b[38;5;129;01mand\u001b[39;00m \u001b[38;5;28mself\u001b[39m\u001b[38;5;241m.\u001b[39m_info_axis\u001b[38;5;241m.\u001b[39m_can_hold_identifiers_and_holds_name(name)\n\u001b[0;32m   5900\u001b[0m ):\n\u001b[0;32m   5901\u001b[0m     \u001b[38;5;28;01mreturn\u001b[39;00m \u001b[38;5;28mself\u001b[39m[name]\n\u001b[1;32m-> 5902\u001b[0m \u001b[38;5;28;01mreturn\u001b[39;00m \u001b[38;5;28;43mobject\u001b[39;49m\u001b[38;5;241;43m.\u001b[39;49m\u001b[38;5;21;43m__getattribute__\u001b[39;49m\u001b[43m(\u001b[49m\u001b[38;5;28;43mself\u001b[39;49m\u001b[43m,\u001b[49m\u001b[43m \u001b[49m\u001b[43mname\u001b[49m\u001b[43m)\u001b[49m\n",
      "\u001b[1;31mAttributeError\u001b[0m: 'Series' object has no attribute 'set_index'"
     ]
    }
   ],
   "source": [
    "events_df['ds'].set_index('ds')"
   ]
  },
  {
   "cell_type": "code",
   "execution_count": 114,
   "id": "ed456655",
   "metadata": {},
   "outputs": [
    {
     "name": "stdout",
     "output_type": "stream",
     "text": [
      "Error: Argument must be a pandas series\n"
     ]
    }
   ],
   "source": [
    "events_df = series_to_dataframe(events_df)"
   ]
  },
  {
   "cell_type": "code",
   "execution_count": 117,
   "id": "3b8a328d",
   "metadata": {},
   "outputs": [],
   "source": [
    "events_df"
   ]
  },
  {
   "cell_type": "code",
   "execution_count": 113,
   "id": "f3a0454f",
   "metadata": {},
   "outputs": [],
   "source": [
    "\n",
    "def series_to_dataframe(series):\n",
    "    \"\"\"\n",
    "    This function takes a pandas series as an argument and returns a pandas dataframe.\n",
    "    \n",
    "    Parameters:\n",
    "    series (pandas.Series): The pandas series to be converted to a dataframe\n",
    "    \n",
    "    Returns:\n",
    "    pandas.DataFrame: The dataframe created from the series\n",
    "    \"\"\"\n",
    "    try:\n",
    "        # Check if the argument is a pandas series\n",
    "        if not isinstance(series, pd.Series):\n",
    "            raise TypeError(\"Argument must be a pandas series\")\n",
    "        \n",
    "        # Convert the series to a dataframe and return it\n",
    "        return pd.DataFrame(series)\n",
    "    except TypeError as e:\n",
    "        # Log the error\n",
    "        print(f\"Error: {e}\")\n",
    "        return None"
   ]
  },
  {
   "cell_type": "code",
   "execution_count": null,
   "id": "3ad21288",
   "metadata": {},
   "outputs": [],
   "source": []
  }
 ],
 "metadata": {
  "kernelspec": {
   "display_name": "Python 3 (ipykernel)",
   "language": "python",
   "name": "python3"
  },
  "language_info": {
   "codemirror_mode": {
    "name": "ipython",
    "version": 3
   },
   "file_extension": ".py",
   "mimetype": "text/x-python",
   "name": "python",
   "nbconvert_exporter": "python",
   "pygments_lexer": "ipython3",
   "version": "3.9.13"
  }
 },
 "nbformat": 4,
 "nbformat_minor": 5
}
